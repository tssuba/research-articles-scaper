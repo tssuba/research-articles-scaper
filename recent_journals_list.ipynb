{
  "nbformat": 4,
  "nbformat_minor": 0,
  "metadata": {
    "colab": {
      "name": "recent_journals_list.ipynb",
      "provenance": [],
      "toc_visible": true
    },
    "kernelspec": {
      "name": "python3",
      "display_name": "Python 3"
    },
    "language_info": {
      "name": "python"
    }
  },
  "cells": [
    {
      "cell_type": "code",
      "execution_count": 1,
      "metadata": {
        "id": "LtIVxplTT8LO"
      },
      "outputs": [],
      "source": [
        "import json\n",
        "import pandas as pd\n",
        "import requests\n",
        "from tqdm.notebook import tqdm_notebook"
      ]
    },
    {
      "cell_type": "code",
      "source": [
        "api_key = 'd8c028741e0f442dea2d9bfe0ad53595'"
      ],
      "metadata": {
        "id": "DM-oHh-UVRaN"
      },
      "execution_count": null,
      "outputs": []
    },
    {
      "cell_type": "code",
      "source": [
        "#retrieving full paper\n",
        "url = 'https://api.elsevier.com/content/abstract/scopus_id/85130632085?apiKey=d8c028741e0f442dea2d9bfe0ad53595'\n",
        "headers={'Accept': 'application/json', 'field':'description'}\n",
        "response = requests.get(url,headers=headers)\n",
        "s=response.content.decode(\"utf-8\")\n",
        "cont=json.loads(s) \n",
        "response\n",
        "cont"
      ],
      "metadata": {
        "id": "dfxOWDPWYsqf"
      },
      "execution_count": null,
      "outputs": []
    },
    {
      "cell_type": "code",
      "source": [
        "#retrieving metadata eg: title of the article, doi, publication date\n",
        "#SCOPUS\n",
        "id = 'http://api.elsevier.com/content/search/scopus?query=%28net+zero+carbon%29&field=citedby-count,title,prism:doi,prism:coverDate,prism:publicationName&apiKey=31015ec149e0309054b6024922d717b2&insttoken=882cdb5a26aaeb7623dddcd837a209ff'\n",
        "headersid={'Accept': 'application/json', 'field':'description'}\n",
        "responseid = requests.get(id,headers=headersid)\n",
        "sid=responseid.content.decode(\"utf-8\")\n",
        "contid=json.loads(sid) \n",
        "contid\n",
        "box=pd.DataFrame(contid['search-results']['entry'])[['dc:title','prism:doi', 'prism:coverDate','prism:publicationName']]\n",
        "box\n",
        "#http://schema.elsevier.com/dtds/document/bkapi/search/SCIDIRSearchViews.htm has all the field attribute"
      ],
      "metadata": {
        "id": "5GC0YW5jXSXw"
      },
      "execution_count": null,
      "outputs": []
    },
    {
      "cell_type": "code",
      "source": [
        ""
      ],
      "metadata": {
        "id": "uP-RaBmOSCvn"
      },
      "execution_count": null,
      "outputs": []
    },
    {
      "cell_type": "code",
      "source": [
        "#SPRINGER API 22d8fab26298167baa0a61dfd0b41e35\n",
        "a = []\n",
        "datasp='http://api.springernature.com/meta/v2/json?q=(\"net-zero carbon\"%20AND%20language:en) sort:date&api_key=22d8fab26298167baa0a61dfd0b41e35' # url obtained from elsevier\n",
        "responsesp = requests.get(datasp)\n",
        "ssp=responsesp.content.decode(\"utf-8\")\n",
        "contsp=json.loads(ssp)  \n",
        "box1=pd.DataFrame(contsp['records'])[['title','doi','abstract','onlineDate']]\n",
        "for i in range(len(contsp['records'])):\n",
        "   a.append(contsp['records'][i]['url'][1][\"value\"])\n",
        "box1['url'] = a\n",
        "box2=box1.sort_values(by='onlineDate',ascending=False)\n",
        "box2\n"
      ],
      "metadata": {
        "id": "rtSJbCi5N61U"
      },
      "execution_count": null,
      "outputs": []
    },
    {
      "cell_type": "code",
      "source": [
        "contsp['records'][1]['url']"
      ],
      "metadata": {
        "id": "bmgXs4owPbOC"
      },
      "execution_count": null,
      "outputs": []
    },
    {
      "cell_type": "code",
      "source": [
        "a = []\n",
        "for i in range(len(contsp['records'])):\n",
        "   a.append(contsp['records'][i]['url'][1][\"value\"])\n",
        "len(a) \n",
        "a"
      ],
      "metadata": {
        "id": "OIrzaBZkRVMz"
      },
      "execution_count": null,
      "outputs": []
    },
    {
      "cell_type": "code",
      "source": [
        "article = 'https://api.elsevier.com/content/article/doi/10.1016/j.ijcard.2017.02.078?apiKey=d8c028741e0f442dea2d9bfe0ad53595&httpAccept=application%2Fjson'\n",
        "#headers={'Accept': 'application/json'}\n",
        "#articleheaders={'field':'description'}\n",
        "articleres = requests.get(article)\n",
        "articledec=articleres.content.decode(\"utf-8\")\n",
        "articlecont=json.loads(articledec) \n",
        "articlecont"
      ],
      "metadata": {
        "id": "OZ_OpnbUXAwO"
      },
      "execution_count": null,
      "outputs": []
    },
    {
      "cell_type": "code",
      "source": [
        "from bs4 import BeautifulSoup"
      ],
      "metadata": {
        "id": "FXxMwhekKMhX"
      },
      "execution_count": null,
      "outputs": []
    },
    {
      "cell_type": "code",
      "source": [
        "soup = BeautifulSoup(articlecont)"
      ],
      "metadata": {
        "colab": {
          "base_uri": "https://localhost:8080/",
          "height": 311
        },
        "id": "yUa9pUYIKYBa",
        "outputId": "f0d9387f-36ab-4afd-f632-12561fb336f7"
      },
      "execution_count": null,
      "outputs": [
        {
          "output_type": "error",
          "ename": "TypeError",
          "evalue": "ignored",
          "traceback": [
            "\u001b[0;31m---------------------------------------------------------------------------\u001b[0m",
            "\u001b[0;31mTypeError\u001b[0m                                 Traceback (most recent call last)",
            "\u001b[0;32m<ipython-input-39-b1434627fa64>\u001b[0m in \u001b[0;36m<module>\u001b[0;34m()\u001b[0m\n\u001b[0;32m----> 1\u001b[0;31m \u001b[0msoup\u001b[0m \u001b[0;34m=\u001b[0m \u001b[0mBeautifulSoup\u001b[0m\u001b[0;34m(\u001b[0m\u001b[0marticlecont\u001b[0m\u001b[0;34m)\u001b[0m\u001b[0;34m\u001b[0m\u001b[0;34m\u001b[0m\u001b[0m\n\u001b[0m",
            "\u001b[0;32m/usr/local/lib/python3.7/dist-packages/bs4/__init__.py\u001b[0m in \u001b[0;36m__init__\u001b[0;34m(self, markup, features, builder, parse_only, from_encoding, exclude_encodings, **kwargs)\u001b[0m\n\u001b[1;32m    277\u001b[0m          \u001b[0mself\u001b[0m\u001b[0;34m.\u001b[0m\u001b[0mcontains_replacement_characters\u001b[0m\u001b[0;34m)\u001b[0m \u001b[0;32min\u001b[0m \u001b[0;34m(\u001b[0m\u001b[0;34m\u001b[0m\u001b[0;34m\u001b[0m\u001b[0m\n\u001b[1;32m    278\u001b[0m              self.builder.prepare_markup(\n\u001b[0;32m--> 279\u001b[0;31m                  markup, from_encoding, exclude_encodings=exclude_encodings)):\n\u001b[0m\u001b[1;32m    280\u001b[0m             \u001b[0mself\u001b[0m\u001b[0;34m.\u001b[0m\u001b[0mreset\u001b[0m\u001b[0;34m(\u001b[0m\u001b[0;34m)\u001b[0m\u001b[0;34m\u001b[0m\u001b[0;34m\u001b[0m\u001b[0m\n\u001b[1;32m    281\u001b[0m             \u001b[0;32mtry\u001b[0m\u001b[0;34m:\u001b[0m\u001b[0;34m\u001b[0m\u001b[0;34m\u001b[0m\u001b[0m\n",
            "\u001b[0;32m/usr/local/lib/python3.7/dist-packages/bs4/builder/_lxml.py\u001b[0m in \u001b[0;36mprepare_markup\u001b[0;34m(self, markup, user_specified_encoding, exclude_encodings, document_declared_encoding)\u001b[0m\n\u001b[1;32m    119\u001b[0m         \u001b[0mtry_encodings\u001b[0m \u001b[0;34m=\u001b[0m \u001b[0;34m[\u001b[0m\u001b[0muser_specified_encoding\u001b[0m\u001b[0;34m,\u001b[0m \u001b[0mdocument_declared_encoding\u001b[0m\u001b[0;34m]\u001b[0m\u001b[0;34m\u001b[0m\u001b[0;34m\u001b[0m\u001b[0m\n\u001b[1;32m    120\u001b[0m         detector = EncodingDetector(\n\u001b[0;32m--> 121\u001b[0;31m             markup, try_encodings, is_html, exclude_encodings)\n\u001b[0m\u001b[1;32m    122\u001b[0m         \u001b[0;32mfor\u001b[0m \u001b[0mencoding\u001b[0m \u001b[0;32min\u001b[0m \u001b[0mdetector\u001b[0m\u001b[0;34m.\u001b[0m\u001b[0mencodings\u001b[0m\u001b[0;34m:\u001b[0m\u001b[0;34m\u001b[0m\u001b[0;34m\u001b[0m\u001b[0m\n\u001b[1;32m    123\u001b[0m             \u001b[0;32myield\u001b[0m \u001b[0;34m(\u001b[0m\u001b[0mdetector\u001b[0m\u001b[0;34m.\u001b[0m\u001b[0mmarkup\u001b[0m\u001b[0;34m,\u001b[0m \u001b[0mencoding\u001b[0m\u001b[0;34m,\u001b[0m \u001b[0mdocument_declared_encoding\u001b[0m\u001b[0;34m,\u001b[0m \u001b[0;32mFalse\u001b[0m\u001b[0;34m)\u001b[0m\u001b[0;34m\u001b[0m\u001b[0;34m\u001b[0m\u001b[0m\n",
            "\u001b[0;32m/usr/local/lib/python3.7/dist-packages/bs4/dammit.py\u001b[0m in \u001b[0;36m__init__\u001b[0;34m(self, markup, override_encodings, is_html, exclude_encodings)\u001b[0m\n\u001b[1;32m    226\u001b[0m \u001b[0;34m\u001b[0m\u001b[0m\n\u001b[1;32m    227\u001b[0m         \u001b[0;31m# First order of business: strip a byte-order mark.\u001b[0m\u001b[0;34m\u001b[0m\u001b[0;34m\u001b[0m\u001b[0;34m\u001b[0m\u001b[0m\n\u001b[0;32m--> 228\u001b[0;31m         \u001b[0mself\u001b[0m\u001b[0;34m.\u001b[0m\u001b[0mmarkup\u001b[0m\u001b[0;34m,\u001b[0m \u001b[0mself\u001b[0m\u001b[0;34m.\u001b[0m\u001b[0msniffed_encoding\u001b[0m \u001b[0;34m=\u001b[0m \u001b[0mself\u001b[0m\u001b[0;34m.\u001b[0m\u001b[0mstrip_byte_order_mark\u001b[0m\u001b[0;34m(\u001b[0m\u001b[0mmarkup\u001b[0m\u001b[0;34m)\u001b[0m\u001b[0;34m\u001b[0m\u001b[0;34m\u001b[0m\u001b[0m\n\u001b[0m\u001b[1;32m    229\u001b[0m \u001b[0;34m\u001b[0m\u001b[0m\n\u001b[1;32m    230\u001b[0m     \u001b[0;32mdef\u001b[0m \u001b[0m_usable\u001b[0m\u001b[0;34m(\u001b[0m\u001b[0mself\u001b[0m\u001b[0;34m,\u001b[0m \u001b[0mencoding\u001b[0m\u001b[0;34m,\u001b[0m \u001b[0mtried\u001b[0m\u001b[0;34m)\u001b[0m\u001b[0;34m:\u001b[0m\u001b[0;34m\u001b[0m\u001b[0;34m\u001b[0m\u001b[0m\n",
            "\u001b[0;32m/usr/local/lib/python3.7/dist-packages/bs4/dammit.py\u001b[0m in \u001b[0;36mstrip_byte_order_mark\u001b[0;34m(cls, data)\u001b[0m\n\u001b[1;32m    286\u001b[0m             \u001b[0mencoding\u001b[0m \u001b[0;34m=\u001b[0m \u001b[0;34m'utf-16le'\u001b[0m\u001b[0;34m\u001b[0m\u001b[0;34m\u001b[0m\u001b[0m\n\u001b[1;32m    287\u001b[0m             \u001b[0mdata\u001b[0m \u001b[0;34m=\u001b[0m \u001b[0mdata\u001b[0m\u001b[0;34m[\u001b[0m\u001b[0;36m2\u001b[0m\u001b[0;34m:\u001b[0m\u001b[0;34m]\u001b[0m\u001b[0;34m\u001b[0m\u001b[0;34m\u001b[0m\u001b[0m\n\u001b[0;32m--> 288\u001b[0;31m         \u001b[0;32melif\u001b[0m \u001b[0mdata\u001b[0m\u001b[0;34m[\u001b[0m\u001b[0;34m:\u001b[0m\u001b[0;36m3\u001b[0m\u001b[0;34m]\u001b[0m \u001b[0;34m==\u001b[0m \u001b[0;34mb'\\xef\\xbb\\xbf'\u001b[0m\u001b[0;34m:\u001b[0m\u001b[0;34m\u001b[0m\u001b[0;34m\u001b[0m\u001b[0m\n\u001b[0m\u001b[1;32m    289\u001b[0m             \u001b[0mencoding\u001b[0m \u001b[0;34m=\u001b[0m \u001b[0;34m'utf-8'\u001b[0m\u001b[0;34m\u001b[0m\u001b[0;34m\u001b[0m\u001b[0m\n\u001b[1;32m    290\u001b[0m             \u001b[0mdata\u001b[0m \u001b[0;34m=\u001b[0m \u001b[0mdata\u001b[0m\u001b[0;34m[\u001b[0m\u001b[0;36m3\u001b[0m\u001b[0;34m:\u001b[0m\u001b[0;34m]\u001b[0m\u001b[0;34m\u001b[0m\u001b[0;34m\u001b[0m\u001b[0m\n",
            "\u001b[0;31mTypeError\u001b[0m: unhashable type: 'slice'"
          ]
        }
      ]
    },
    {
      "cell_type": "code",
      "source": [
        "print(soup.prettify())"
      ],
      "metadata": {
        "id": "c2o0jcEKKc-s"
      },
      "execution_count": null,
      "outputs": []
    },
    {
      "cell_type": "code",
      "source": [
        ""
      ],
      "metadata": {
        "id": "mp1zBwZHKf1G"
      },
      "execution_count": null,
      "outputs": []
    }
  ]
}